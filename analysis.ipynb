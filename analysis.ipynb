{
 "cells": [
  {
   "cell_type": "code",
   "execution_count": null,
   "metadata": {},
   "outputs": [],
   "source": [
    "import numpy as np\n",
    "import matplotlib.pyplot as plt\n",
    "import pandas as pd # pandas for data handling\n",
    "import warnings\n",
    "warnings.simplefilter(action='ignore', category=(FutureWarning,DeprecationWarning))"
   ]
  },
  {
   "cell_type": "code",
   "execution_count": null,
   "metadata": {},
   "outputs": [],
   "source": [
    "from scipy import signal\n",
    "def low_pass(sr,dt=10,Hz=100):\n",
    "    'Apply lowpass filter to a data series'\n",
    "    win=signal.hann(int(Hz*dt)+1)\n",
    "    pad = np.zeros(len(win)//2) * np.NaN\n",
    "    sig = signal.convolve(sr, win, mode='valid')/ sum(win)\n",
    "    return pd.Series(np.r_[pad,sig,pad])\n",
    "\n",
    "def read_power(folder):\n",
    "    df = pd.read_csv(folder+'/fort.9',delim_whitespace = True,\n",
    "                        names=[\"time\",\"CFL\",\"power\",\"phi\"])\n",
    "    df.drop(df.index[:3], inplace=True)\n",
    "    df['power_smooth'] = low_pass(df.power,dt=0.03,Hz=len(df.power))\n",
    "    df.Theta = 0.14\n",
    "    return df\n",
    "\n",
    "def average(df,var):\n",
    "    return np.trapz(df[var],df.time)/(df.time.iloc[-1]-df.time.iloc[0])\n",
    "\n",
    "plt.figure(figsize=(6.3,3),dpi=100)\n",
    "plt.xlabel(r'$z/L$', fontsize=12)\n",
    "plt.ylabel(r'$C_P$', rotation=0, labelpad=15,fontsize=12)\n",
    "\n",
    "for i in range(4):\n",
    "    folder = 'phase/case{:02d}'.format(i)\n",
    "    df = read_power(folder)\n",
    "    plt.plot(df.time,df.power_smooth/df.Theta**3,label=str(i)+'/8')\n",
    "\n",
    "bar,amp = average(df,'power')/df.Theta**3,1.5748*df.power.mad()/df.Theta**3\n",
    "plt.axhline(y=bar,color='grey',ls='--')\n",
    "plt.axhline(y=bar+amp,color='grey',ls='-.')\n",
    "plt.axhline(y=bar-amp,color='grey',ls='-.')\n",
    "\n",
    "plt.legend(title=r'$t/T$')\n",
    "plt.tight_layout()\n",
    "plt.savefig('phase_Cp.png')\n",
    "plt.show()"
   ]
  },
  {
   "cell_type": "code",
   "execution_count": null,
   "metadata": {},
   "outputs": [],
   "source": [
    "df = pd.read_csv('grid_out.csv').query('r<1')\n",
    "df = pd.concat([df,pd.read_csv('grid_out_2.csv')])\n",
    "\n",
    "fig,axa = plt.subplots(1,2,figsize=(7,3),dpi=100,sharey=True)\n",
    "for ax in axa:\n",
    "    ax.set_yscale('log')\n",
    "    ax.set_ylim([1e-2,1])\n",
    "axa[0].set_ylabel(r'$\\overline{C_P}$', rotation=0, labelpad=15,fontsize=12)\n",
    "axa[0].scatter(df.r,df.bar_p/df.Theta**3,c=180/np.pi*df.Theta)\n",
    "axa[0].set_xlabel(r'$r/R$', fontsize=12)\n",
    "im = axa[1].scatter(180/np.pi*df.alpha,df.bar_p/df.Theta**3,c=180/np.pi*df.Theta)\n",
    "axa[1].set_xlabel(r'$\\alpha$ (deg)', fontsize=12)\n",
    "fig.colorbar(im,label=r'$\\Theta$ (deg)')\n",
    "plt.tight_layout()\n",
    "plt.savefig('grid_bar_Cp.png')\n",
    "plt.show()"
   ]
  },
  {
   "cell_type": "code",
   "execution_count": null,
   "metadata": {},
   "outputs": [],
   "source": [
    "fig,axa = plt.subplots(1,2,figsize=(7,3),dpi=100,sharey=True)\n",
    "for ax in axa:\n",
    "    ax.set_yscale('log')\n",
    "    ax.set_ylim([1e-3,1])\n",
    "axa[0].set_ylabel(r'$\\Theta |C_P|$', rotation=0, labelpad=15,fontsize=12)\n",
    "axa[0].scatter(df.r,df.amp_p/df.Theta**2,c=180/np.pi*df.Theta)\n",
    "axa[0].set_xlabel(r'$r/R$', fontsize=12)\n",
    "im = axa[1].scatter(180/np.pi*df.alpha,df.amp_p/df.Theta**2,c=180/np.pi*df.Theta)\n",
    "axa[1].set_xlabel(r'$\\alpha$ (deg)', fontsize=12)\n",
    "fig.colorbar(im,label=r'$\\Theta$ (deg)')\n",
    "plt.tight_layout()\n",
    "plt.savefig('grid_amp_Cp.png')\n",
    "plt.show()"
   ]
  },
  {
   "cell_type": "code",
   "execution_count": null,
   "metadata": {},
   "outputs": [],
   "source": [
    "from mpl_toolkits.mplot3d import Axes3D\n",
    "fig = plt.figure(figsize=(8,3),dpi=100)\n",
    "ax = fig.add_subplot(121, projection='3d')\n",
    "ax.scatter(df.r,180/np.pi*df.alpha,df.bar_p/df.Theta**3,c=180/np.pi*df.Theta)\n",
    "ax.set_xlabel(r'$r/R$', fontsize=12)\n",
    "ax.set_ylabel(r'$\\alpha$ (deg)', fontsize=12)\n",
    "ax.set_zlabel(r'$\\overline{C_P}$', fontsize=12)\n",
    "\n",
    "ax = fig.add_subplot(122, projection='3d')\n",
    "ax.scatter(df.r,180/np.pi*df.alpha,df.amp_p/df.Theta**2,c=180/np.pi*df.Theta)\n",
    "ax.set_xlabel(r'$r/R$', fontsize=12)\n",
    "ax.set_ylabel(r'$\\alpha$ (deg)', fontsize=12)\n",
    "ax.set_zlabel(r'$\\Theta |C_P|$', fontsize=12)\n",
    "plt.savefig('grid_3D_Cp.png')\n",
    "plt.show()"
   ]
  },
  {
   "cell_type": "code",
   "execution_count": null,
   "metadata": {},
   "outputs": [],
   "source": [
    "from sklearn.preprocessing import PolynomialFeatures,StandardScaler\n",
    "from sklearn.linear_model import LinearRegression, Ridge, RidgeCV, ARDRegression\n",
    "from sklearn.pipeline import make_pipeline\n",
    "from sklearn.metrics import explained_variance_score\n",
    "\n",
    "# Pipeline\n",
    "poly_model = make_pipeline(StandardScaler(),\n",
    "                           PolynomialFeatures(4),\n",
    "                           RidgeCV(cv=10))\n",
    "\n",
    "# Model based on all the data\n",
    "X = df[['Theta','alpha','r']]\n",
    "y = df.bar_p/df.Theta**3\n",
    "poly_model.fit(X, y)\n",
    "score_1K = explained_variance_score(y,poly_model.predict(X))\n",
    "print('1000 point model score:{}'.format(score_1K))\n",
    "\n",
    "# Data slice\n",
    "Theta_surf = df.Theta.unique()[5]\n",
    "X_surf = df[df.Theta==Theta_surf][['Theta','alpha','r']]\n",
    "y_dat = df[df.Theta==Theta_surf].bar_p/Theta_surf**3\n",
    "y_fit = poly_model.predict(X_surf)\n",
    "\n",
    "# Intermediate model\n",
    "def IM(X): # X[0]=Theta, X[1]=alpha, X[2]=r\n",
    "    return (1+np.tanh(2*X[:,1]))*np.tanh(4*(1-X[:,2]))/2\n",
    "y_IM = IM(X_surf.values)\n",
    "score_IM = explained_variance_score(y,IM(X.values))\n",
    "print('Intermediate model score:{}'.format(score_IM))\n",
    "\n",
    "# plot\n",
    "fig = plt.figure(figsize=(8,4),dpi=100)\n",
    "ax = fig.add_subplot(121, projection='3d')\n",
    "ax.plot_trisurf(X_surf.r,180/np.pi*X_surf.alpha,y_fit,alpha=0.8)\n",
    "ax.scatter(X_surf.r,180/np.pi*X_surf.alpha,y_dat,c=y_dat-y_fit,alpha=1)\n",
    "ax.set_xlabel(r'$r/R$', fontsize=12)\n",
    "ax.set_ylabel(r'$\\alpha$ (deg)', fontsize=12)\n",
    "ax.set_zlabel(r'$\\overline{C_P}$', fontsize=12)\n",
    "\n",
    "ax = fig.add_subplot(122, projection='3d')\n",
    "ax.plot_trisurf(X_surf.r,180/np.pi*X_surf.alpha,y_IM,color='C1',alpha=0.8)\n",
    "ax.scatter(X_surf.r,180/np.pi*X_surf.alpha,y_dat,c=y_dat-y_IM,alpha=1)\n",
    "ax.set_xlabel(r'$r/R$', fontsize=12)\n",
    "ax.set_ylabel(r'$\\alpha$ (deg)', fontsize=12)\n",
    "ax.set_zlabel(r'$\\overline{C_P}$', fontsize=12)\n",
    "plt.savefig('surf_3D_Cp.png');"
   ]
  },
  {
   "cell_type": "code",
   "execution_count": null,
   "metadata": {},
   "outputs": [],
   "source": [
    "from sklearn.model_selection import train_test_split\n",
    "warnings.simplefilter(action='ignore', category=(FutureWarning,DeprecationWarning))\n",
    "from sklearn.preprocessing import FunctionTransformer"
   ]
  },
  {
   "cell_type": "markdown",
   "metadata": {},
   "source": [
    "Create and evaluate the Polynomial Kernel Regression model"
   ]
  },
  {
   "cell_type": "code",
   "execution_count": null,
   "metadata": {
    "scrolled": true
   },
   "outputs": [],
   "source": [
    "# Make the model \"pipeline\"\n",
    "poly_model = make_pipeline(StandardScaler(),\n",
    "                           PolynomialFeatures(4),\n",
    "                           RidgeCV(cv=10))\n",
    "\n",
    "# Evaulate model performance\n",
    "def subfit(n,model,state=1): # split -> fit -> test\n",
    "    X_train, X_test, y_train, y_test = train_test_split(X, y, train_size=n, random_state=state)\n",
    "    model.fit(X_train, y_train)\n",
    "    y_fit = model.predict(X_test)\n",
    "    return {'score':explained_variance_score(y_test,y_fit),'n':n,'state':state}\n",
    "\n",
    "def evaluate(model): # loop through the data set sizes\n",
    "    return pd.DataFrame([subfit(n,model,state)\n",
    "                         for n in np.logspace(1,2.466,20).astype(int)\n",
    "                         for state in range(20)])\n",
    "\n",
    "poly_results = evaluate(poly_model)"
   ]
  },
  {
   "cell_type": "code",
   "execution_count": null,
   "metadata": {},
   "outputs": [],
   "source": [
    "fig = plt.figure(figsize=(6,3),dpi=100)\n",
    "ax = fig.add_subplot(111)\n",
    "plt.axhline(y=score_1K,ls='--',c='k')\n",
    "poly_results.plot.scatter(x='n',y='score',ax=ax,alpha=0.5)\n",
    "poly_results.groupby('n').median().reset_index().plot(x='n',y='score',ax=ax,label='Poly Kernel')\n",
    "\n",
    "plt.ylim(0,1)\n",
    "plt.xscale('log'); plt.xlim(10,1e3)\n",
    "plt.legend()\n",
    "plt.title('Explained $\\overline{C_P}$ variance')\n",
    "plt.xlabel('Training size')\n",
    "plt.tight_layout()\n",
    "plt.savefig('sadface.png')"
   ]
  },
  {
   "cell_type": "markdown",
   "metadata": {},
   "source": [
    "Create the PBLM model"
   ]
  },
  {
   "cell_type": "code",
   "execution_count": null,
   "metadata": {},
   "outputs": [],
   "source": [
    "# Concatenate input\n",
    "def transformer(X):\n",
    "    return np.column_stack([X,IM(X)])\n",
    "\n",
    "# PBLM pipeline\n",
    "PBLM_model = make_pipeline(FunctionTransformer(transformer, validate=True),\n",
    "                           StandardScaler(),\n",
    "                           PolynomialFeatures(3),\n",
    "                           RidgeCV(alphas=[1,10,100],cv=5))\n",
    "\n",
    "PBLM_results = evaluate(PBLM_model)"
   ]
  },
  {
   "cell_type": "code",
   "execution_count": null,
   "metadata": {},
   "outputs": [],
   "source": [
    "fig = plt.figure(figsize=(6,3),dpi=100)\n",
    "ax = fig.add_subplot(111)\n",
    "plt.axhline(y=score_1K,ls='--',c='k')\n",
    "poly_results.plot.scatter(x='n',y='score',ax=ax,alpha=0.5)\n",
    "poly_results.groupby('n').median().reset_index().plot(x='n',y='score',ax=ax,label='Poly Kernel')\n",
    "# plt.axhline(y=score_IM,ls='--',c='C1',label='Intermediate')\n",
    "PBLM_results.plot.scatter(x='n',y='score',ax=ax,c='C4',alpha=0.5)\n",
    "PBLM_results.groupby('n').median().reset_index().plot(x='n',y='score',ax=ax,c='C4',label='Physics-based')\n",
    "\n",
    "plt.ylim(0,1)\n",
    "plt.xscale('log'); plt.xlim(10,1e3)\n",
    "plt.legend()\n",
    "plt.title('Explained $\\overline{C_P}$ variance')\n",
    "plt.xlabel('Training size')\n",
    "plt.tight_layout()\n",
    "plt.savefig('tada1.png')"
   ]
  },
  {
   "cell_type": "code",
   "execution_count": null,
   "metadata": {},
   "outputs": [],
   "source": []
  },
  {
   "cell_type": "code",
   "execution_count": null,
   "metadata": {},
   "outputs": [],
   "source": []
  }
 ],
 "metadata": {
  "kernelspec": {
   "display_name": "Python 3",
   "language": "python",
   "name": "python3"
  },
  "language_info": {
   "codemirror_mode": {
    "name": "ipython",
    "version": 3
   },
   "file_extension": ".py",
   "mimetype": "text/x-python",
   "name": "python",
   "nbconvert_exporter": "python",
   "pygments_lexer": "ipython3",
   "version": "3.6.10"
  }
 },
 "nbformat": 4,
 "nbformat_minor": 2
}
